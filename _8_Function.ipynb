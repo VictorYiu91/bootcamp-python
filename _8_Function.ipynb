{
 "cells": [
  {
   "cell_type": "code",
   "execution_count": 140,
   "id": "cc814afd",
   "metadata": {},
   "outputs": [
    {
     "name": "stdout",
     "output_type": "stream",
     "text": [
      "hello\n"
     ]
    }
   ],
   "source": [
    "def hello():\n",
    "  print('hello')\n",
    "\n",
    "hello()"
   ]
  },
  {
   "cell_type": "code",
   "execution_count": 141,
   "id": "c603c18c",
   "metadata": {},
   "outputs": [
    {
     "name": "stdout",
     "output_type": "stream",
     "text": [
      "11\n",
      "7\n"
     ]
    }
   ],
   "source": [
    "def sum(x, y):\n",
    "  return x + y\n",
    "\n",
    "print(sum(3,8))\n",
    "print(sum(11,-4))"
   ]
  },
  {
   "cell_type": "code",
   "execution_count": 142,
   "id": "6a867c1e",
   "metadata": {},
   "outputs": [
    {
     "name": "stdout",
     "output_type": "stream",
     "text": [
      "r1=17, r2=-1, r3=72, r4=0.8888888888888888\n"
     ]
    }
   ],
   "source": [
    "def operation(x, y):\n",
    "  return x + y, x - y, x * y, x / y\n",
    "r1, r2, r3 ,r4 = operation(8, 9)\n",
    "print(f\"r1={r1}, r2={r2}, r3={r3}, r4={r4}\")"
   ]
  },
  {
   "cell_type": "code",
   "execution_count": 143,
   "id": "f4c34832",
   "metadata": {},
   "outputs": [
    {
     "name": "stdout",
     "output_type": "stream",
     "text": [
      "max=100, min=-4, median=85.0, mean=66.5, stdev=47.7039481245176\n"
     ]
    }
   ],
   "source": [
    "import statistics\n",
    "\n",
    "numbers = [100, 90, -4, 80]\n",
    "\n",
    "def get_max_min(nums):\n",
    "  return max(nums), min(nums), statistics.median(nums), statistics.mean(nums), statistics.stdev(nums)\n",
    "\n",
    "max_value, min_value, median_value, mean_value, stdev_value = get_max_min(numbers)\n",
    "print(f\"max={max_value}, min={min_value}, median={median_value}, mean={mean_value}, stdev={stdev_value}\")"
   ]
  },
  {
   "cell_type": "code",
   "execution_count": 144,
   "id": "5aa581de",
   "metadata": {},
   "outputs": [
    {
     "name": "stdout",
     "output_type": "stream",
     "text": [
      "0.36\n"
     ]
    }
   ],
   "source": [
    "def _2dp(num):\n",
    "  return round(num, 2)\n",
    "\n",
    "print(_2dp(0.123 + 0.234))"
   ]
  },
  {
   "cell_type": "code",
   "execution_count": 145,
   "id": "051ef5de",
   "metadata": {},
   "outputs": [
    {
     "name": "stdout",
     "output_type": "stream",
     "text": [
      "John, hello!!!!\n",
      "Jacky, hello!!!!\n"
     ]
    }
   ],
   "source": [
    "def greeting(name=\"Jacky\"):\n",
    "  return name + \", hello!!!!\"\n",
    "\n",
    "print(greeting(\"John\"))\n",
    "print(greeting()) # default\n"
   ]
  },
  {
   "cell_type": "code",
   "execution_count": 146,
   "id": "19f0c09e",
   "metadata": {},
   "outputs": [
    {
     "name": "stdout",
     "output_type": "stream",
     "text": [
      "True\n",
      "False\n"
     ]
    }
   ],
   "source": [
    "# function is_odd -> True/False\n",
    "def is_odd(x : int) -> bool:\n",
    "  return True if x % 2 == 1 else False\n",
    "\n",
    "print(is_odd(1))\n",
    "print(is_odd(2))\n",
    "\n",
    "# print(is_odd('John'))"
   ]
  },
  {
   "cell_type": "code",
   "execution_count": 147,
   "id": "87c56a99",
   "metadata": {},
   "outputs": [
    {
     "name": "stdout",
     "output_type": "stream",
     "text": [
      "{'Jennie', 'Leo', 'John'}\n",
      "['Jennie', 'Leo', 'John']\n",
      "['Jennie', 'Leo', 'John']\n"
     ]
    }
   ],
   "source": [
    "names = ['John','Jennie','Leo','Jennie']\n",
    "name_set = set(names)\n",
    "print(name_set)\n",
    "print(list(name_set))\n",
    "print(list(set(names)))"
   ]
  },
  {
   "cell_type": "code",
   "execution_count": null,
   "id": "82926887",
   "metadata": {},
   "outputs": [
    {
     "name": "stdout",
     "output_type": "stream",
     "text": [
      "64\n",
      "<class 'filter'>\n",
      "[10, 100, 4]\n",
      "['Jennie', 'Lucas']\n"
     ]
    }
   ],
   "source": [
    "# lambda\n",
    "\n",
    "square_formula = lambda x: x ** 2\n",
    "print(square_formula(8))\n",
    "\n",
    "numbers = [7, 10, 23, 100, 4, 5]\n",
    "even_numbers = list(filter(lambda x: x % 2 == 0, numbers))\n",
    "print(type(filter(lambda x: x % 2 == 0, numbers)))\n",
    "print(even_numbers)\n",
    "\n",
    "names = [\"Jennie\", \"Joe\", \"Ben\", \"Lucas\"]\n",
    "names_longer_than_4 = list(filter(lambda x: len(x) > 4, names))\n",
    "print(names_longer_than_4)"
   ]
  }
 ],
 "metadata": {
  "kernelspec": {
   "display_name": "bootcamp-env",
   "language": "python",
   "name": "python3"
  },
  "language_info": {
   "codemirror_mode": {
    "name": "ipython",
    "version": 3
   },
   "file_extension": ".py",
   "mimetype": "text/x-python",
   "name": "python",
   "nbconvert_exporter": "python",
   "pygments_lexer": "ipython3",
   "version": "3.13.8"
  }
 },
 "nbformat": 4,
 "nbformat_minor": 5
}
