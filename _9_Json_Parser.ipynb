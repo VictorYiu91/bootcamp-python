{
 "cells": [
  {
   "cell_type": "code",
   "execution_count": 39,
   "id": "c76844b0",
   "metadata": {},
   "outputs": [
    {
     "name": "stdout",
     "output_type": "stream",
     "text": [
      "{'name': 'Vincent', 'age': 18}\n",
      "Vincent\n",
      "18\n",
      "{\n",
      "  \"name\": \"Vincent\",\n",
      "  \"age\": 18\n",
      "}\n"
     ]
    }
   ],
   "source": [
    "import json\n",
    "\n",
    "# JSON -> Dictionary\n",
    "\n",
    "json_str = '{\"name\" : \"Vincent\", \"age\" : 18}'\n",
    "dictionary1 = json.loads(json_str)\n",
    "print(dictionary1)\n",
    "print(dictionary1['name'])\n",
    "print(dictionary1['age'])\n",
    "\n",
    "# json_missing_comma = '{\"name\" : \"Vincent\"\"age\" : 18}'\n",
    "# dictionary2 = json.loads(json_missing_comma)\n",
    "# print(dictionary2)\n",
    "\n",
    "# Dictionary -> JSON\n",
    "json_str = json.dumps(dictionary1, indent=2)\n",
    "print(json_str)"
   ]
  },
  {
   "cell_type": "code",
   "execution_count": 40,
   "id": "8386de55",
   "metadata": {},
   "outputs": [
    {
     "name": "stdout",
     "output_type": "stream",
     "text": [
      "<class 'dict'>\n",
      "<class 'str'>\n",
      "{\n",
      "  \"name\": \"Jacky\",\n",
      "  \"age\": 24,\n",
      "  \"phones\": [\n",
      "    \"+852 12345678\",\n",
      "    \"+852 09876543\"\n",
      "  ]\n",
      "}\n"
     ]
    }
   ],
   "source": [
    "# JSON File -> Dictionary\n",
    "with open(\"user1.json\", \"r\") as file:\n",
    "  user_dict = json.load(file)\n",
    "print(type(user_jacky))\n",
    "\n",
    "user_str = json.dumps(user_jacky, indent=2)\n",
    "print(type(user_str))\n",
    "print(user_str)\n",
    "\n",
    "# String -> Dictionary -> Write JSON file\n",
    "cat_str = '{\"name\" : \"lucas\", \"age\" : 2, \"sex\" : \"male\"}'\n",
    "cat_dictionary = json.loads(cat_str)\n",
    "with open(\"cat.json\", \"w\") as file:\n",
    "  json.dump(cat_dictionary, file, indent=2)"
   ]
  },
  {
   "cell_type": "code",
   "execution_count": null,
   "id": "853f0d3a",
   "metadata": {},
   "outputs": [
    {
     "name": "stdout",
     "output_type": "stream",
     "text": [
      "<class 'list'>\n",
      "<class 'list'>\n",
      "[{'name': 'Jacky', 'age': 27, 'address': {'city': 'New York', 'zip': '000123'}}, {'name': 'Mary', 'age': 10, 'address': {'city': 'New York', 'zip': '000123'}}]\n"
     ]
    }
   ],
   "source": [
    "# load json to list\n",
    "\n",
    "with open(\"persons.json\", \"r\") as file:\n",
    "  persons_list = json.load(file)\n",
    "\n",
    "# function/lambda -> New York\n",
    "# write person_new_york.json\n",
    "\n",
    "new_york_list = list(filter(lambda x : x[\"address\"][\"city\"] == \"New York\", persons_list))\n",
    "with open(\"person_new_york.json\", \"w\") as file:\n",
    "  json.dump(new_york_list, file, indent=2)"
   ]
  }
 ],
 "metadata": {
  "kernelspec": {
   "display_name": "bootcamp-env",
   "language": "python",
   "name": "python3"
  },
  "language_info": {
   "codemirror_mode": {
    "name": "ipython",
    "version": 3
   },
   "file_extension": ".py",
   "mimetype": "text/x-python",
   "name": "python",
   "nbconvert_exporter": "python",
   "pygments_lexer": "ipython3",
   "version": "3.13.8"
  }
 },
 "nbformat": 4,
 "nbformat_minor": 5
}
