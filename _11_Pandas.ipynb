{
 "cells": [
  {
   "cell_type": "code",
   "execution_count": 61,
   "id": "94363c7a",
   "metadata": {},
   "outputs": [],
   "source": [
    "# !pip install pandas"
   ]
  },
  {
   "cell_type": "code",
   "execution_count": 62,
   "id": "6573f0fa",
   "metadata": {},
   "outputs": [
    {
     "name": "stdout",
     "output_type": "stream",
     "text": [
      "<class 'pandas.core.series.Series'>\n",
      "0     2\n",
      "1     8\n",
      "2    -2\n",
      "3   -10\n",
      "dtype: int64\n",
      "  name  age\n",
      "0  Leo   23\n",
      "<class 'dict'>\n",
      "    names  ages\n",
      "0     Leo    23\n",
      "1   Jason    18\n",
      "2  Jennie     9\n",
      "<class 'pandas.core.frame.DataFrame'>\n"
     ]
    }
   ],
   "source": [
    "import pandas as pd\n",
    "\n",
    "# Pandas: Series, DataFrame\n",
    "\n",
    "series = pd.Series([2,8,-2,-10])\n",
    "print(type(series))\n",
    "print(series)\n",
    "\n",
    "dictionary = {\n",
    "  \"name\" : \"Leo\",\n",
    "  \"age\" : 23\n",
    "}\n",
    "\n",
    "# Convert Dictionary DataFrame\n",
    "df = pd.DataFrame(dictionary, index=[0])\n",
    "print(df)\n",
    "\n",
    "teams = {\n",
    "  \"names\" : ['Leo', 'Jason', 'Jennie'],\n",
    "  \"ages\" : [23, 18, 9]\n",
    "}\n",
    "print(type(teams)) # <dict>\n",
    "\n",
    "df2 = pd.DataFrame(teams)\n",
    "print(df2)\n",
    "print(type(df2)) # <DataFrame>"
   ]
  },
  {
   "cell_type": "code",
   "execution_count": 63,
   "id": "7cf5afde",
   "metadata": {},
   "outputs": [
    {
     "name": "stdout",
     "output_type": "stream",
     "text": [
      "0       Leo\n",
      "1     Jason\n",
      "2    Jennie\n",
      "Name: names, dtype: object\n",
      "<class 'pandas.core.series.Series'>\n",
      "0    23\n",
      "1    18\n",
      "2     9\n",
      "Name: ages, dtype: int64\n",
      "    names  ages gender\n",
      "0     Leo    23      M\n",
      "1   Jason    18      M\n",
      "2  Jennie     9      F\n"
     ]
    }
   ],
   "source": [
    "print(df2['names'])\n",
    "names_series = df2['names']\n",
    "print(type(names_series)) # <Series>\n",
    "\n",
    "print(df2['ages'])\n",
    "\n",
    "# add Series\n",
    "df2['gender'] = pd.Series(['M','M','F'])\n",
    "print(df2)"
   ]
  },
  {
   "cell_type": "code",
   "execution_count": 64,
   "id": "61c2ee1f",
   "metadata": {},
   "outputs": [
    {
     "name": "stdout",
     "output_type": "stream",
     "text": [
      "    names  ages gender\n",
      "1   Jason    18      M\n",
      "2  Jennie     9      F\n"
     ]
    }
   ],
   "source": [
    "# Filtering\n",
    "print(df2.loc[df2[\"ages\"] < 20])"
   ]
  },
  {
   "cell_type": "code",
   "execution_count": 65,
   "id": "ae176d4b",
   "metadata": {},
   "outputs": [
    {
     "name": "stdout",
     "output_type": "stream",
     "text": [
      "0    False\n",
      "1     True\n",
      "2     True\n",
      "Name: ages, dtype: bool\n"
     ]
    }
   ],
   "source": [
    "print(df2[\"ages\"] < 20)"
   ]
  },
  {
   "cell_type": "code",
   "execution_count": 66,
   "id": "40cce32c",
   "metadata": {},
   "outputs": [
    {
     "name": "stdout",
     "output_type": "stream",
     "text": [
      "    names  ages gender\n",
      "1   Jason    18      M\n",
      "2  Jennie     9      F\n"
     ]
    }
   ],
   "source": [
    "# Contains (Find key word)\n",
    "print(df2.loc[df2[\"names\"].str.contains(\"J\")])"
   ]
  },
  {
   "cell_type": "code",
   "execution_count": 67,
   "id": "3d2b5495",
   "metadata": {},
   "outputs": [
    {
     "name": "stdout",
     "output_type": "stream",
     "text": [
      "    names  ages gender\n",
      "0     Leo    23      M\n",
      "2  Jennie     9      F\n",
      "    names  ages gender\n",
      "2  Jennie     9      F\n"
     ]
    }
   ],
   "source": [
    "#Python (if-else -> and or)\n",
    "#DataFrame (& |)\n",
    "print(df2.loc[df2[\"names\"].str.contains(\"L\") | (df2[\"ages\"] < 11)])\n",
    "\n",
    "print(df2.loc[df2[\"names\"].str.contains(\"J\") & (df2[\"gender\"] == 'F')])"
   ]
  },
  {
   "cell_type": "code",
   "execution_count": 68,
   "id": "b97d413b",
   "metadata": {},
   "outputs": [
    {
     "name": "stdout",
     "output_type": "stream",
     "text": [
      "<class 'pandas.core.frame.DataFrame'>\n",
      "RangeIndex: 3 entries, 0 to 2\n",
      "Data columns (total 3 columns):\n",
      " #   Column  Non-Null Count  Dtype \n",
      "---  ------  --------------  ----- \n",
      " 0   names   3 non-null      object\n",
      " 1   ages    3 non-null      int64 \n",
      " 2   gender  3 non-null      object\n",
      "dtypes: int64(1), object(2)\n",
      "memory usage: 204.0+ bytes\n",
      "None\n",
      "            ages\n",
      "count   3.000000\n",
      "mean   16.666667\n",
      "std     7.094599\n",
      "min     9.000000\n",
      "25%    13.500000\n",
      "50%    18.000000\n",
      "75%    20.500000\n",
      "max    23.000000\n",
      "    names  ages gender\n",
      "0     Leo    23      M\n",
      "1   Jason    18      M\n",
      "2  Jennie     9      F\n"
     ]
    }
   ],
   "source": [
    "print(df2.info())\n",
    "print(df2.describe())\n",
    "print(df2.head()) # first 5 rows"
   ]
  },
  {
   "cell_type": "code",
   "execution_count": 69,
   "id": "aa3187e4",
   "metadata": {},
   "outputs": [
    {
     "name": "stdout",
     "output_type": "stream",
     "text": [
      "<class 'pandas.core.frame.DataFrame'>\n",
      "   PassengerId  Survived  Pclass  \\\n",
      "0            1         0       3   \n",
      "1            2         1       1   \n",
      "2            3         1       3   \n",
      "3            4         1       1   \n",
      "4            5         0       3   \n",
      "\n",
      "                                                Name     Sex   Age  SibSp  \\\n",
      "0                            Braund, Mr. Owen Harris    male  22.0      1   \n",
      "1  Cumings, Mrs. John Bradley (Florence Briggs Th...  female  38.0      1   \n",
      "2                             Heikkinen, Miss. Laina  female  26.0      0   \n",
      "3       Futrelle, Mrs. Jacques Heath (Lily May Peel)  female  35.0      1   \n",
      "4                           Allen, Mr. William Henry    male  35.0      0   \n",
      "\n",
      "   Parch            Ticket     Fare Cabin Embarked  \n",
      "0      0         A/5 21171   7.2500   NaN        S  \n",
      "1      0          PC 17599  71.2833   C85        C  \n",
      "2      0  STON/O2. 3101282   7.9250   NaN        S  \n",
      "3      0            113803  53.1000  C123        S  \n",
      "4      0            373450   8.0500   NaN        S  \n",
      "     PassengerId  Survived  Pclass  \\\n",
      "3              4         1       1   \n",
      "879          880         1       1   \n",
      "\n",
      "                                              Name     Sex   Age  SibSp  \\\n",
      "3     Futrelle, Mrs. Jacques Heath (Lily May Peel)  female  35.0      1   \n",
      "879  Potter, Mrs. Thomas Jr (Lily Alexenia Wilson)  female  56.0      0   \n",
      "\n",
      "     Parch  Ticket     Fare Cabin Embarked  \n",
      "3        0  113803  53.1000  C123        S  \n",
      "879      1   11767  83.1583   C50        C  \n"
     ]
    }
   ],
   "source": [
    "# Call API\n",
    "url = 'https://raw.githubusercontent.com/datasciencedojo/datasets/master/titanic.csv'\n",
    "df = pd.read_csv(url) # return DataFrame\n",
    "\n",
    "print(type(df))\n",
    "print(df.head())\n",
    "\n",
    "df_female_30 = df.loc[(df[\"Sex\"]==\"female\") & (df[\"Age\"] > 30) & (df[\"Name\"].str.contains(\"Lily\"))]\n",
    "print(df_female_30)"
   ]
  },
  {
   "cell_type": "code",
   "execution_count": 70,
   "id": "3100b067",
   "metadata": {},
   "outputs": [
    {
     "name": "stdout",
     "output_type": "stream",
     "text": [
      "29.69911764705882\n",
      "80.0\n",
      "0.42\n",
      "Survived\n",
      "0    30.626179\n",
      "1    28.343690\n",
      "Name: Age, dtype: float64\n"
     ]
    }
   ],
   "source": [
    "print(df[\"Age\"].mean())\n",
    "print(df[\"Age\"].max())\n",
    "print(df[\"Age\"].min())\n",
    "print(df.groupby(\"Survived\")[\"Age\"].mean())"
   ]
  },
  {
   "cell_type": "code",
   "execution_count": 71,
   "id": "d7f4dc7d",
   "metadata": {},
   "outputs": [
    {
     "name": "stdout",
     "output_type": "stream",
     "text": [
      "True\n",
      "False\n",
      "Index(['Age', 'Cabin', 'Embarked'], dtype='object')\n",
      "891\n",
      "714\n",
      "183\n"
     ]
    }
   ],
   "source": [
    "print(df[\"Age\"].isnull().any())\n",
    "print(df[\"Name\"].isnull().any())\n",
    "\n",
    "print(df.columns[df.isnull().any()])\n",
    "\n",
    "# ETL (extract transform load)\n",
    "# clear those person without age\n",
    "df_after_drop_null_age = df.dropna(subset=[\"Age\"])\n",
    "print(len(df))\n",
    "print(len(df_after_drop_null_age))\n",
    "df_after_drop_all_null = df.dropna(subset=[\"Age\",\"Cabin\",\"Embarked\"])\n",
    "print(len(df_after_drop_all_null))\n"
   ]
  },
  {
   "cell_type": "code",
   "execution_count": null,
   "id": "696f8fb3",
   "metadata": {},
   "outputs": [
    {
     "name": "stdout",
     "output_type": "stream",
     "text": [
      "Index([], dtype='object')\n",
      "891\n",
      "891\n"
     ]
    }
   ],
   "source": [
    "df_for_refill = df.copy()\n",
    "df_for_refill[\"Age\"] = df_for_refill[\"Age\"].fillna(\"N/A\")\n",
    "df_for_refill[\"Cabin\"] = df_for_refill[\"Cabin\"].fillna(\"N/A\")\n",
    "df_for_refill[\"Embarked\"] = df_for_refill[\"Embarked\"].fillna(\"N/A\")\n",
    "\n",
    "print(df_for_refill.columns[df_for_refill.isnull().any()]) # No null value\n",
    "print(len(df_for_refill))\n",
    "print(len(df))"
   ]
  },
  {
   "cell_type": "code",
   "execution_count": 74,
   "id": "c2670c53",
   "metadata": {},
   "outputs": [],
   "source": [
    "# DataFrame to csv\n",
    "df_for_refill.to_csv(\"titanic_after_refill.csv\")"
   ]
  },
  {
   "cell_type": "code",
   "execution_count": 75,
   "id": "cc978a65",
   "metadata": {},
   "outputs": [
    {
     "name": "stdout",
     "output_type": "stream",
     "text": [
      "['Kamren', 'Elwyn.Skiles']\n"
     ]
    }
   ],
   "source": [
    "url = \"https://jsonplaceholder.typicode.com/users\"\n",
    "\n",
    "# lambda (map)\n",
    "# city = Roscoeview or Howemouth\n",
    "\n",
    "# -> usernames (list of String)\n",
    "\n",
    "user_df = pd.read_json(url)\n",
    "# users_list = user_df.to_dict('records')\n",
    "# users_ros_how = list(filter(lambda x : (x[\"address\"][\"city\"] == \"Roscoeview\") or (x[\"address\"][\"city\"] == \"Howemouth\") , users_list))\n",
    "# usernames_ros_how = list(map(lambda x: x[\"username\"], users_ros_how))\n",
    "\n",
    "usernames_ros_how = [x[\"username\"] for x in user_df.to_dict('records') if x[\"address\"][\"city\"] in [\"Roscoeview\",\"Howemouth\"]]\n",
    "print(usernames_ros_how)"
   ]
  }
 ],
 "metadata": {
  "kernelspec": {
   "display_name": "bootcamp-env",
   "language": "python",
   "name": "python3"
  },
  "language_info": {
   "codemirror_mode": {
    "name": "ipython",
    "version": 3
   },
   "file_extension": ".py",
   "mimetype": "text/x-python",
   "name": "python",
   "nbconvert_exporter": "python",
   "pygments_lexer": "ipython3",
   "version": "3.13.8"
  }
 },
 "nbformat": 4,
 "nbformat_minor": 5
}
