{
 "cells": [
  {
   "cell_type": "code",
   "execution_count": 30,
   "id": "0fd396ef",
   "metadata": {},
   "outputs": [
    {
     "name": "stdout",
     "output_type": "stream",
     "text": [
      "2025-10-15 15:38:37.874900\n",
      "2025-10-15\n",
      "2020-11-30\n",
      "2021-01-29\n"
     ]
    }
   ],
   "source": [
    "from datetime import datetime, date, timedelta\n",
    "\n",
    "print(datetime.now())\n",
    "print(date.today())\n",
    "\n",
    "birthday = date(2020,11,30)\n",
    "print(birthday)\n",
    "\n",
    "new_birthday = birthday + timedelta(days=60)\n",
    "print(new_birthday)"
   ]
  },
  {
   "cell_type": "code",
   "execution_count": 31,
   "id": "797f2255",
   "metadata": {},
   "outputs": [
    {
     "name": "stdout",
     "output_type": "stream",
     "text": [
      "2026-01-15\n",
      "2026-10-15\n",
      "2026-01-23\n"
     ]
    }
   ],
   "source": [
    "from dateutil.relativedelta import relativedelta\n",
    "\n",
    "probation_end_date = date.today() + relativedelta(months=3)\n",
    "print(probation_end_date)\n",
    "\n",
    "a_year_later = date.today() + relativedelta(years=1)\n",
    "print(a_year_later)\n",
    "\n",
    "hundred_day_later = date.today() + relativedelta(days=100)\n",
    "print(hundred_day_later)"
   ]
  },
  {
   "cell_type": "code",
   "execution_count": 32,
   "id": "48f35ac3",
   "metadata": {},
   "outputs": [
    {
     "name": "stdout",
     "output_type": "stream",
     "text": [
      "<class 'str'>\n",
      "2025-10-15 15:38:37\n",
      "<class 'datetime.datetime'>\n",
      "2025-12-31 23:59:59\n"
     ]
    }
   ],
   "source": [
    "formatted_datetime = datetime.now().strftime(\"%Y-%m-%d %H:%M:%S\")\n",
    "print(type(formatted_datetime))\n",
    "print(formatted_datetime)\n",
    "\n",
    "str_datetime = \"2025/12/31 23:59:59\"\n",
    "parsed_datetime = datetime.strptime(str_datetime,\"%Y/%m/%d %H:%M:%S\")\n",
    "print(type(parsed_datetime))\n",
    "print(parsed_datetime)"
   ]
  }
 ],
 "metadata": {
  "kernelspec": {
   "display_name": "bootcamp-env",
   "language": "python",
   "name": "python3"
  },
  "language_info": {
   "codemirror_mode": {
    "name": "ipython",
    "version": 3
   },
   "file_extension": ".py",
   "mimetype": "text/x-python",
   "name": "python",
   "nbconvert_exporter": "python",
   "pygments_lexer": "ipython3",
   "version": "3.13.8"
  }
 },
 "nbformat": 4,
 "nbformat_minor": 5
}
