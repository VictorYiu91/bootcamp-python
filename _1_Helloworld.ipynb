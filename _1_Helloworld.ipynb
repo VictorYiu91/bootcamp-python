{
 "cells": [
  {
   "cell_type": "code",
   "execution_count": null,
   "id": "c0901e9f",
   "metadata": {},
   "outputs": [
    {
     "name": "stdout",
     "output_type": "stream",
     "text": [
      "3\n",
      "<class 'int'>\n",
      "7.5\n",
      "<class 'float'>\n",
      "hello\n",
      "<class 'str'>\n",
      "<class 'bool'>\n"
     ]
    }
   ],
   "source": [
    "# Does Python Variable with Type concept? YES\n",
    "# Java -> Static (Compile Time) + Strong\n",
    "# Python -> Dynamic + Strong\n",
    "\n",
    "x = 3\n",
    "print(x)\n",
    "print(type(x))\n",
    "\n",
    "x = 7.5\n",
    "print(x)\n",
    "print(type(x))\n",
    "\n",
    "x = 'hello'\n",
    "print(x)\n",
    "print(type(x)) \n",
    "\n",
    "x = False\n",
    "x = True\n",
    "print(type(x))\n",
    "\n",
    "# python data type: int, float, str, bool"
   ]
  },
  {
   "cell_type": "code",
   "execution_count": 13,
   "id": "81f251cd",
   "metadata": {},
   "outputs": [
    {
     "name": "stdout",
     "output_type": "stream",
     "text": [
      "5\n",
      "18\n"
     ]
    }
   ],
   "source": [
    "print(2+3)\n",
    "print(7+11)"
   ]
  },
  {
   "cell_type": "code",
   "execution_count": 14,
   "id": "06232d64",
   "metadata": {},
   "outputs": [
    {
     "name": "stdout",
     "output_type": "stream",
     "text": [
      "John\n",
      "Mary\n",
      "abc\n",
      "def\n",
      "hellohellohello\n",
      "hellohellohellohello\n",
      "hellohellohellohellohello\n"
     ]
    }
   ],
   "source": [
    "# str (both '' / \"\" is ok)\n",
    "name = 'John'\n",
    "first_name = \"Mary\"\n",
    "print(name)\n",
    "print(first_name)\n",
    "\n",
    "print('abc')\n",
    "print(\"def\")\n",
    "\n",
    "# + and *\n",
    "s = 'hello'\n",
    "s = s * 3\n",
    "print(s)\n",
    "\n",
    "s = s + 'hello'\n",
    "print(s)\n",
    "\n",
    "s += 'hello'\n",
    "print(s)\n",
    "\n",
    "# java: find min and max (1loop)\n",
    "# python: 2loop (call min function, call max function)"
   ]
  },
  {
   "cell_type": "code",
   "execution_count": null,
   "id": "340903c7",
   "metadata": {},
   "outputs": [
    {
     "name": "stdout",
     "output_type": "stream",
     "text": [
      "3.3333333333333335\n",
      "0.30000000000000004\n"
     ]
    }
   ],
   "source": [
    "result = 10 / 3\n",
    "print(result)\n",
    "\n",
    "# floating point issue\n",
    "result2 = 0.2 + 0.1\n",
    "print(result2)\n",
    "\n",
    "#result3 = 10 / 0\n",
    "#print(result3)"
   ]
  }
 ],
 "metadata": {
  "kernelspec": {
   "display_name": "bootcamp-env",
   "language": "python",
   "name": "python3"
  },
  "language_info": {
   "codemirror_mode": {
    "name": "ipython",
    "version": 3
   },
   "file_extension": ".py",
   "mimetype": "text/x-python",
   "name": "python",
   "nbconvert_exporter": "python",
   "pygments_lexer": "ipython3",
   "version": "3.13.8"
  }
 },
 "nbformat": 4,
 "nbformat_minor": 5
}
