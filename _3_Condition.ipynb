{
 "cells": [
  {
   "cell_type": "code",
   "execution_count": 33,
   "id": "005102f2",
   "metadata": {},
   "outputs": [
    {
     "name": "stdout",
     "output_type": "stream",
     "text": [
      "hello\n"
     ]
    }
   ],
   "source": [
    "x = 10\n",
    "if x > 9:\n",
    "  print('hello')\n",
    "else:\n",
    "  print('goodbye') # need Spacing\n",
    "\n",
    "# Python doesn't have explicit code block {}, we have to use space to indicate the code block."
   ]
  },
  {
   "cell_type": "code",
   "execution_count": 34,
   "id": "d984cea0",
   "metadata": {},
   "outputs": [
    {
     "name": "stdout",
     "output_type": "stream",
     "text": [
      "Grade=B\n"
     ]
    }
   ],
   "source": [
    "score = 89\n",
    "\n",
    "# >= 90 -> A\n",
    "# >= 80 -> B\n",
    "# >= 70 -> C\n",
    "# else F\n",
    "# print grade\n",
    "\n",
    "if (score >= 90):\n",
    "  grade = 'A'\n",
    "elif (score >= 80):\n",
    "  grade = 'B'\n",
    "elif (score >= 70):\n",
    "  grade = 'C'\n",
    "else:\n",
    "  grade = 'F'\n",
    "print(f\"Grade={grade}\")"
   ]
  },
  {
   "cell_type": "code",
   "execution_count": 35,
   "id": "d37d92a8",
   "metadata": {},
   "outputs": [
    {
     "name": "stdout",
     "output_type": "stream",
     "text": [
      "hello\n",
      "hello\n",
      "good bye\n",
      "2\n"
     ]
    }
   ],
   "source": [
    "# AND OR\n",
    "# Java && ||\n",
    "# Python and or\n",
    "\n",
    "x = 10\n",
    "if (x > 4 and x < 12):\n",
    "  print('hello')\n",
    "\n",
    "# Range coding accpet in Python\n",
    "if (4 < x < 12):\n",
    "  print('hello')\n",
    "\n",
    "if (x > 10 or x < 20):\n",
    "  print('good bye')\n",
    "\n",
    "# age >= 65, fee = 2, otherwise fee = 10\n",
    "age = 66\n",
    "fee = 2 if age >= 65 else 10\n",
    "print(fee)"
   ]
  },
  {
   "cell_type": "code",
   "execution_count": 36,
   "id": "c1125125",
   "metadata": {},
   "outputs": [
    {
     "name": "stdout",
     "output_type": "stream",
     "text": [
      "Female\n"
     ]
    }
   ],
   "source": [
    "# Java (not -> !)\n",
    "is_male = False\n",
    "if (not is_male):\n",
    "  print(\"Female\")\n",
    "else:\n",
    "  print(\"Male\")"
   ]
  },
  {
   "cell_type": "code",
   "execution_count": 37,
   "id": "acfec480",
   "metadata": {},
   "outputs": [
    {
     "name": "stdout",
     "output_type": "stream",
     "text": [
      "Login Success.\n",
      "False\n"
     ]
    }
   ],
   "source": [
    "# Java equals()\n",
    "password = \"admin1234\"\n",
    "entered_password = \"admin1234\"\n",
    "\n",
    "if (password==entered_password):\n",
    "  print(\"Login Success.\")\n",
    "else:\n",
    "  print(\"Login Fail.\")\n",
    "\n",
    "print(password != entered_password) # False"
   ]
  },
  {
   "cell_type": "code",
   "execution_count": 38,
   "id": "d6ca5936",
   "metadata": {},
   "outputs": [
    {
     "name": "stdout",
     "output_type": "stream",
     "text": [
      "ODD NUMBER\n"
     ]
    }
   ],
   "source": [
    "# ODD EVEN\n",
    "\n",
    "number = 9\n",
    "if (number % 2 == 0):\n",
    "  print(\"EVEN NUMBER\")\n",
    "else:\n",
    "  print(\"ODD NUMBER\")"
   ]
  },
  {
   "cell_type": "code",
   "execution_count": null,
   "id": "9c2e6588",
   "metadata": {},
   "outputs": [],
   "source": [
    "# Java: switch\n",
    "# Python: > v3.10 (match)\n",
    "# Disadvantage: Not range checking.\n",
    "\n",
    "is_elderly = True\n",
    "\n",
    "match is_elderly:\n",
    "  case True:\n",
    "    print(\"He is elderly.\")\n",
    "  case False:\n",
    "    print(\"He is not elderly.\")\n",
    "\n",
    "weekday = \"Monday\"\n",
    "match weekday:\n",
    "  case \"Monday\":\n",
    "    print(\"Mon\")\n",
    "  case \"Tuseday\":\n",
    "    print(\"Tue\")\n",
    "  case \"Wednesday\":\n",
    "    print(\"Wed\")\n",
    "  case \"Thursday\":\n",
    "    print(\"Thu\")\n",
    "  case \"Friday\":\n",
    "    print(\"Fri\")\n",
    "  case \"Saturday\":\n",
    "    print(\"Sat\")\n",
    "  case \"Sunday\":\n",
    "    print(\"Sun\")\n",
    "  case _:\n",
    "    print(\"Not Found\")"
   ]
  }
 ],
 "metadata": {
  "kernelspec": {
   "display_name": "bootcamp-env",
   "language": "python",
   "name": "python3"
  },
  "language_info": {
   "codemirror_mode": {
    "name": "ipython",
    "version": 3
   },
   "file_extension": ".py",
   "mimetype": "text/x-python",
   "name": "python",
   "nbconvert_exporter": "python",
   "pygments_lexer": "ipython3",
   "version": "3.13.8"
  }
 },
 "nbformat": 4,
 "nbformat_minor": 5
}
