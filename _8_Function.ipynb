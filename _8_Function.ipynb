{
 "cells": [
  {
   "cell_type": "code",
   "execution_count": 11,
   "id": "cc814afd",
   "metadata": {},
   "outputs": [
    {
     "name": "stdout",
     "output_type": "stream",
     "text": [
      "hello\n"
     ]
    }
   ],
   "source": [
    "def hello():\n",
    "  print('hello')\n",
    "\n",
    "hello()"
   ]
  },
  {
   "cell_type": "code",
   "execution_count": 12,
   "id": "c603c18c",
   "metadata": {},
   "outputs": [
    {
     "name": "stdout",
     "output_type": "stream",
     "text": [
      "11\n",
      "7\n"
     ]
    }
   ],
   "source": [
    "def sum(x, y):\n",
    "  return x + y\n",
    "\n",
    "print(sum(3,8))\n",
    "print(sum(11,-4))"
   ]
  },
  {
   "cell_type": "code",
   "execution_count": 13,
   "id": "6a867c1e",
   "metadata": {},
   "outputs": [
    {
     "name": "stdout",
     "output_type": "stream",
     "text": [
      "r1=17, r2=-1, r3=72, r4=0.8888888888888888\n"
     ]
    }
   ],
   "source": [
    "def operation(x, y):\n",
    "  return x + y, x - y, x * y, x / y\n",
    "r1, r2, r3 ,r4 = operation(8, 9)\n",
    "print(f\"r1={r1}, r2={r2}, r3={r3}, r4={r4}\")"
   ]
  },
  {
   "cell_type": "code",
   "execution_count": 14,
   "id": "f4c34832",
   "metadata": {},
   "outputs": [
    {
     "name": "stdout",
     "output_type": "stream",
     "text": [
      "max=100, min=-4, median=85.0, mean=66.5, stdev=47.7039481245176\n"
     ]
    }
   ],
   "source": [
    "import statistics\n",
    "\n",
    "numbers = [100, 90, -4, 80]\n",
    "\n",
    "def get_max_min(nums):\n",
    "  return max(nums), min(nums), statistics.median(nums), statistics.mean(nums), statistics.stdev(nums)\n",
    "\n",
    "max_value, min_value, median_value, mean_value, stdev_value = get_max_min(numbers)\n",
    "print(f\"max={max_value}, min={min_value}, median={median_value}, mean={mean_value}, stdev={stdev_value}\")"
   ]
  }
 ],
 "metadata": {
  "kernelspec": {
   "display_name": "bootcamp-env",
   "language": "python",
   "name": "python3"
  },
  "language_info": {
   "codemirror_mode": {
    "name": "ipython",
    "version": 3
   },
   "file_extension": ".py",
   "mimetype": "text/x-python",
   "name": "python",
   "nbconvert_exporter": "python",
   "pygments_lexer": "ipython3",
   "version": "3.13.8"
  }
 },
 "nbformat": 4,
 "nbformat_minor": 5
}
