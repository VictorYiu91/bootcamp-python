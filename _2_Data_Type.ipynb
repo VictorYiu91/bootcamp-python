{
 "cells": [
  {
   "cell_type": "code",
   "execution_count": 3,
   "id": "ec4872ca",
   "metadata": {},
   "outputs": [
    {
     "name": "stdout",
     "output_type": "stream",
     "text": [
      "hello3\n",
      "goodbyeFalse\n"
     ]
    }
   ],
   "source": [
    "# String + operation\n",
    "# Python: String + String -> String\n",
    "# String + other type data -> error\n",
    "# s = 'hello' + 3\n",
    "\n",
    "x = 3\n",
    "s = 'hello' + str(x) # explicit conversion\n",
    "print(s)\n",
    "print('goodbye'+str(False))"
   ]
  }
 ],
 "metadata": {
  "kernelspec": {
   "display_name": "bootcamp-env",
   "language": "python",
   "name": "python3"
  },
  "language_info": {
   "codemirror_mode": {
    "name": "ipython",
    "version": 3
   },
   "file_extension": ".py",
   "mimetype": "text/x-python",
   "name": "python",
   "nbconvert_exporter": "python",
   "pygments_lexer": "ipython3",
   "version": "3.13.8"
  }
 },
 "nbformat": 4,
 "nbformat_minor": 5
}
